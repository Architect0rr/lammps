{
 "cells": [
  {
   "cell_type": "markdown",
   "id": "666d3036-47d5-44d2-bc1a-ca4b00a9e9b8",
   "metadata": {},
   "source": [
    "# LAMMPS IPython Tutorial"
   ]
  },
  {
   "cell_type": "markdown",
   "id": "f1422a43-f76b-456b-bf76-61ad92bd4ff0",
   "metadata": {},
   "source": [
    "Author: [Richard Berger](mailto:richard.berger@outlook.com)"
   ]
  },
  {
   "cell_type": "markdown",
   "id": "8f2ea92d-8cc3-4999-81a0-79aa55bb66ab",
   "metadata": {},
   "source": [
    "## Contents\n",
    "\n",
    "- [Example 1: Using LAMMPS with Python](simple.ipynb)\n",
    "- [Example 2: Analyzing LAMMPS thermodynamic data](thermo.ipynb)\n",
    "- [Example 3: Using Atom Data](atom.ipynb)"
   ]
  },
  {
   "cell_type": "code",
   "execution_count": null,
   "id": "b41dc533-be6d-4450-8ad7-7345e9f44ea3",
   "metadata": {},
   "outputs": [],
   "source": []
  }
 ],
 "metadata": {
  "kernelspec": {
   "display_name": "Python 3 (ipykernel)",
   "language": "python",
   "name": "python3"
  },
  "language_info": {
   "codemirror_mode": {
    "name": "ipython",
    "version": 3
   },
   "file_extension": ".py",
   "mimetype": "text/x-python",
   "name": "python",
   "nbconvert_exporter": "python",
   "pygments_lexer": "ipython3",
   "version": "3.9.6"
  }
 },
 "nbformat": 4,
 "nbformat_minor": 5
}
